{
 "metadata": {
  "name": "presentation"
 },
 "nbformat": 3,
 "nbformat_minor": 0,
 "worksheets": [
  {
   "cells": [
    {
     "cell_type": "markdown",
     "metadata": {
      "slideshow": {
       "slide_type": "slide"
      }
     },
     "source": [
      "<img src=sklearn-logo.png width=300>\n",
      "\n",
      "Machine Learning with scikit-learn\n",
      "===================================\n",
      "Andreas Mueller\n",
      "\n"
     ]
    },
    {
     "cell_type": "markdown",
     "metadata": {
      "slideshow": {
       "slide_type": "slide"
      }
     },
     "source": [
      "scikit-learn\n",
      "============\n",
      "* Collection of machine learning algorithms and tools in Python.\n",
      "* BSD Licensed, used in academia and industry (Spotify, bit.ly, Evernote).\n",
      "* ~20 core developers.\n",
      "* Take pride in good code and documentation.\n",
      "* We want YOU to participate!\n"
     ]
    },
    {
     "cell_type": "markdown",
     "metadata": {
      "slideshow": {
       "slide_type": "slide"
      }
     },
     "source": [
      "<img src=\"cheat_sheet.png\" width=1000>"
     ]
    },
    {
     "cell_type": "markdown",
     "metadata": {
      "slideshow": {
       "slide_type": "slide"
      }
     },
     "source": [
      "Data is always represented as a numpy array (or scipy sparse matrix)\n",
      "---------------------------------------------------------------------\n",
      "X.shape is always (n_samples, n_feature)"
     ]
    },
    {
     "cell_type": "code",
     "collapsed": false,
     "input": [
      "print(X)"
     ],
     "language": "python",
     "metadata": {
      "slideshow": {
       "slide_type": "fragment"
      }
     },
     "outputs": [
      {
       "output_type": "stream",
       "stream": "stdout",
       "text": [
        "[[ 0.      0.      0.3125 ...,  0.      0.      0.    ]\n",
        " [ 0.      0.      0.     ...,  0.625   0.      0.    ]\n",
        " [ 0.      0.      0.     ...,  1.      0.5625  0.    ]\n",
        " ..., \n",
        " [ 0.      0.      0.0625 ...,  0.375   0.      0.    ]\n",
        " [ 0.      0.      0.125  ...,  0.75    0.      0.    ]\n",
        " [ 0.      0.      0.625  ...,  0.75    0.0625  0.    ]]\n"
       ]
      }
     ],
     "prompt_number": 8
    },
    {
     "cell_type": "markdown",
     "metadata": {
      "slideshow": {
       "slide_type": "slide"
      }
     },
     "source": [
      "Start Simple: Linear SVMs\n",
      "=========================="
     ]
    },
    {
     "cell_type": "code",
     "collapsed": false,
     "input": [
      "from sklearn.svm import LinearSVC"
     ],
     "language": "python",
     "metadata": {},
     "outputs": [],
     "prompt_number": 23
    },
    {
     "cell_type": "markdown",
     "metadata": {
      "slideshow": {
       "slide_type": "fragment"
      }
     },
     "source": [
      "Finds a linear separation between the classes."
     ]
    },
    {
     "cell_type": "markdown",
     "metadata": {
      "slideshow": {
       "slide_type": "fragment"
      }
     },
     "source": [
      "<br>\n",
      "Instantiate the model."
     ]
    },
    {
     "cell_type": "code",
     "collapsed": false,
     "input": [
      "svm = LinearSVC()"
     ],
     "language": "python",
     "metadata": {
      "slideshow": {
       "slide_type": "fragment"
      }
     },
     "outputs": [],
     "prompt_number": 24
    },
    {
     "cell_type": "markdown",
     "metadata": {
      "slideshow": {
       "slide_type": "fragment"
      }
     },
     "source": [
      "<br>\n",
      "Fit the model using the known labels."
     ]
    },
    {
     "cell_type": "code",
     "collapsed": false,
     "input": [
      "svm.fit(X_train, y_train);"
     ],
     "language": "python",
     "metadata": {
      "slideshow": {
       "slide_type": "fragment"
      }
     },
     "outputs": [],
     "prompt_number": 25
    },
    {
     "cell_type": "markdown",
     "metadata": {
      "slideshow": {
       "slide_type": "fragment"
      }
     },
     "source": [
      "<br>\n",
      "Apply the model. For supervised algorithms, this is ``predict``."
     ]
    },
    {
     "cell_type": "code",
     "collapsed": false,
     "input": [
      "svm.predict(X_train)"
     ],
     "language": "python",
     "metadata": {
      "slideshow": {
       "slide_type": "fragment"
      }
     },
     "outputs": [
      {
       "output_type": "pyout",
       "prompt_number": 26,
       "text": [
        "array([2, 8, 9, ..., 7, 7, 8])"
       ]
      }
     ],
     "prompt_number": 26
    },
    {
     "cell_type": "markdown",
     "metadata": {
      "slideshow": {
       "slide_type": "fragment"
      }
     },
     "source": [
      "<br>\n",
      "Evaluate the model."
     ]
    },
    {
     "cell_type": "code",
     "collapsed": false,
     "input": [
      "svm.score(X_train, y_train)"
     ],
     "language": "python",
     "metadata": {
      "slideshow": {
       "slide_type": "fragment"
      }
     },
     "outputs": [
      {
       "output_type": "pyout",
       "prompt_number": 27,
       "text": [
        "0.99257609502598365"
       ]
      }
     ],
     "prompt_number": 27
    },
    {
     "cell_type": "code",
     "collapsed": false,
     "input": [
      "svm.score(X_test, y_test)"
     ],
     "language": "python",
     "metadata": {
      "slideshow": {
       "slide_type": "fragment"
      }
     },
     "outputs": [
      {
       "output_type": "pyout",
       "prompt_number": 28,
       "text": [
        "0.96444444444444444"
       ]
      }
     ],
     "prompt_number": 28
    },
    {
     "cell_type": "markdown",
     "metadata": {
      "slideshow": {
       "slide_type": "slide"
      }
     },
     "source": [
      "More complex: Random Forests\n",
      "============================"
     ]
    },
    {
     "cell_type": "code",
     "collapsed": false,
     "input": [
      "from sklearn.ensemble import RandomForestClassifier"
     ],
     "language": "python",
     "metadata": {
      "slideshow": {
       "slide_type": "-"
      }
     },
     "outputs": [],
     "prompt_number": 29
    },
    {
     "cell_type": "markdown",
     "metadata": {
      "slideshow": {
       "slide_type": "fragment"
      }
     },
     "source": [
      "Builds many randomized decision trees and averages their results."
     ]
    },
    {
     "cell_type": "markdown",
     "metadata": {
      "slideshow": {
       "slide_type": "fragment"
      }
     },
     "source": [
      "<br>Instantiate the model."
     ]
    },
    {
     "cell_type": "code",
     "collapsed": false,
     "input": [
      "rf = RandomForestClassifier()"
     ],
     "language": "python",
     "metadata": {
      "slideshow": {
       "slide_type": "fragment"
      }
     },
     "outputs": [],
     "prompt_number": 30
    },
    {
     "cell_type": "markdown",
     "metadata": {
      "slideshow": {
       "slide_type": "fragment"
      }
     },
     "source": [
      "<br>Fit the model."
     ]
    },
    {
     "cell_type": "code",
     "collapsed": false,
     "input": [
      "rf.fit(X_train, y_train);"
     ],
     "language": "python",
     "metadata": {
      "slideshow": {
       "slide_type": "fragment"
      }
     },
     "outputs": [],
     "prompt_number": 31
    },
    {
     "cell_type": "markdown",
     "metadata": {
      "slideshow": {
       "slide_type": "fragment"
      }
     },
     "source": [
      "<br>Evaluate."
     ]
    },
    {
     "cell_type": "code",
     "collapsed": false,
     "input": [
      "rf.score(X_train, y_train)"
     ],
     "language": "python",
     "metadata": {
      "slideshow": {
       "slide_type": "fragment"
      }
     },
     "outputs": [
      {
       "output_type": "pyout",
       "prompt_number": 32,
       "text": [
        "0.99925760950259834"
       ]
      }
     ],
     "prompt_number": 32
    },
    {
     "cell_type": "code",
     "collapsed": false,
     "input": [
      "rf.score(X_test, y_test)"
     ],
     "language": "python",
     "metadata": {
      "slideshow": {
       "slide_type": "fragment"
      }
     },
     "outputs": [
      {
       "output_type": "pyout",
       "prompt_number": 33,
       "text": [
        "0.95111111111111113"
       ]
      }
     ],
     "prompt_number": 33
    },
    {
     "cell_type": "markdown",
     "metadata": {
      "slideshow": {
       "slide_type": "slide"
      }
     },
     "source": [
      "Adjust important parameters using grid search\n",
      "----------------------------------------------\n"
     ]
    },
    {
     "cell_type": "code",
     "collapsed": false,
     "input": [
      "from sklearn.grid_search import GridSearchCV\n"
     ],
     "language": "python",
     "metadata": {
      "slideshow": {
       "slide_type": "-"
      }
     },
     "outputs": [],
     "prompt_number": 36
    },
    {
     "cell_type": "markdown",
     "metadata": {
      "slideshow": {
       "slide_type": "fragment"
      }
     },
     "source": [
      "<br>\n",
      "<ul>\n",
      "<li>Let's look at LinearSVC again.</li>\n",
      "<li>Only important parameter: C</li>\n",
      "</ul>\n",
      "</br>\n",
      "  "
     ]
    },
    {
     "cell_type": "code",
     "collapsed": false,
     "input": [
      "param_grid = {'C': 10. ** np.arange(-3, 4)}\n",
      "grid_search = GridSearchCV(svm, param_grid=param_grid, cv=3, verbose=3)"
     ],
     "language": "python",
     "metadata": {
      "slideshow": {
       "slide_type": "fragment"
      }
     },
     "outputs": [],
     "prompt_number": 37
    },
    {
     "cell_type": "code",
     "collapsed": false,
     "input": [
      "grid_search.fit(X_train, y_train);"
     ],
     "language": "python",
     "metadata": {
      "slideshow": {
       "slide_type": "slide"
      }
     },
     "outputs": [
      {
       "output_type": "stream",
       "stream": "stdout",
       "text": [
        "[GridSearchCV] C=0.001 .........................................................\n",
        "[GridSearchCV] ................................ C=0.001, score=0.902004 -   0.1s"
       ]
      },
      {
       "output_type": "stream",
       "stream": "stdout",
       "text": [
        "\n",
        "[GridSearchCV] C=0.001 .........................................................\n",
        "[GridSearchCV] ................................ C=0.001, score=0.895323 -   0.1s"
       ]
      },
      {
       "output_type": "stream",
       "stream": "stdout",
       "text": [
        "\n",
        "[GridSearchCV] C=0.001 .........................................................\n",
        "[GridSearchCV] ................................ C=0.001, score=0.879733 -   0.1s"
       ]
      },
      {
       "output_type": "stream",
       "stream": "stdout",
       "text": [
        "\n",
        "[GridSearchCV] C=0.01 ..........................................................\n",
        "[GridSearchCV] ................................. C=0.01, score=0.953229 -   0.1s"
       ]
      },
      {
       "output_type": "stream",
       "stream": "stdout",
       "text": [
        "\n",
        "[GridSearchCV] C=0.01 ..........................................................\n",
        "[GridSearchCV] ................................. C=0.01, score=0.937639 -   0.1s"
       ]
      },
      {
       "output_type": "stream",
       "stream": "stdout",
       "text": [
        "\n",
        "[GridSearchCV] C=0.01 ..........................................................\n",
        "[GridSearchCV] ................................. C=0.01, score=0.919822 -   0.1s"
       ]
      },
      {
       "output_type": "stream",
       "stream": "stdout",
       "text": [
        "\n",
        "[GridSearchCV] C=0.1 ...........................................................\n",
        "[GridSearchCV] .................................. C=0.1, score=0.973274 -   0.1s"
       ]
      },
      {
       "output_type": "stream",
       "stream": "stdout",
       "text": [
        "\n",
        "[GridSearchCV] C=0.1 ...........................................................\n",
        "[GridSearchCV] .................................. C=0.1, score=0.951002 -   0.1s"
       ]
      },
      {
       "output_type": "stream",
       "stream": "stdout",
       "text": [
        "\n",
        "[GridSearchCV] C=0.1 ...........................................................\n",
        "[GridSearchCV] .................................. C=0.1, score=0.951002 -   0.1s"
       ]
      },
      {
       "output_type": "stream",
       "stream": "stdout",
       "text": [
        "\n",
        "[GridSearchCV] C=1.0 ...........................................................\n",
        "[GridSearchCV] .................................. C=1.0, score=0.977728 -   0.2s"
       ]
      },
      {
       "output_type": "stream",
       "stream": "stdout",
       "text": [
        "\n",
        "[GridSearchCV] C=1.0 ...........................................................\n",
        "[GridSearchCV] .................................. C=1.0, score=0.957684 -   0.2s"
       ]
      },
      {
       "output_type": "stream",
       "stream": "stdout",
       "text": [
        "\n",
        "[GridSearchCV] C=1.0 ...........................................................\n",
        "[GridSearchCV] .................................. C=1.0, score=0.964365 -   0.2s"
       ]
      },
      {
       "output_type": "stream",
       "stream": "stdout",
       "text": [
        "\n",
        "[GridSearchCV] C=10.0 ..........................................................\n",
        "[GridSearchCV] ................................. C=10.0, score=0.975501 -   0.2s"
       ]
      },
      {
       "output_type": "stream",
       "stream": "stdout",
       "text": [
        "\n",
        "[GridSearchCV] C=10.0 ..........................................................\n",
        "[GridSearchCV] ................................. C=10.0, score=0.944321 -   0.2s"
       ]
      },
      {
       "output_type": "stream",
       "stream": "stdout",
       "text": [
        "\n",
        "[GridSearchCV] C=10.0 ..........................................................\n",
        "[GridSearchCV] ................................. C=10.0, score=0.962138 -   0.2s"
       ]
      },
      {
       "output_type": "stream",
       "stream": "stdout",
       "text": [
        "\n",
        "[GridSearchCV] C=100.0 .........................................................\n",
        "[GridSearchCV] ................................ C=100.0, score=0.962138 -   0.2s"
       ]
      },
      {
       "output_type": "stream",
       "stream": "stdout",
       "text": [
        "\n",
        "[GridSearchCV] C=100.0 .........................................................\n",
        "[GridSearchCV] ................................ C=100.0, score=0.935412 -   0.2s"
       ]
      },
      {
       "output_type": "stream",
       "stream": "stdout",
       "text": [
        "\n",
        "[GridSearchCV] C=100.0 .........................................................\n",
        "[GridSearchCV] ................................ C=100.0, score=0.957684 -   0.2s"
       ]
      },
      {
       "output_type": "stream",
       "stream": "stdout",
       "text": [
        "\n",
        "[GridSearchCV] C=1000.0 ........................................................\n",
        "[GridSearchCV] ............................... C=1000.0, score=0.964365 -   0.2s"
       ]
      },
      {
       "output_type": "stream",
       "stream": "stdout",
       "text": [
        "\n",
        "[GridSearchCV] C=1000.0 ........................................................\n",
        "[GridSearchCV] ............................... C=1000.0, score=0.935412 -   0.2s"
       ]
      },
      {
       "output_type": "stream",
       "stream": "stdout",
       "text": [
        "\n",
        "[GridSearchCV] C=1000.0 ........................................................\n",
        "[GridSearchCV] ............................... C=1000.0, score=0.957684 -   0.2s"
       ]
      },
      {
       "output_type": "stream",
       "stream": "stderr",
       "text": [
        "[Parallel(n_jobs=1)]: Done   1 jobs       | elapsed:    0.1s\n",
        "[Parallel(n_jobs=1)]: Done  21 out of  21 | elapsed:    3.2s finished\n"
       ]
      },
      {
       "output_type": "stream",
       "stream": "stdout",
       "text": [
        "\n"
       ]
      }
     ],
     "prompt_number": 38
    },
    {
     "cell_type": "markdown",
     "metadata": {
      "slideshow": {
       "slide_type": "slide"
      }
     },
     "source": [
      "Fin\n",
      "==="
     ]
    },
    {
     "cell_type": "markdown",
     "metadata": {
      "slideshow": {
       "slide_type": "fragment"
      }
     },
     "source": [
      "<table style=\"font-size:16pt; border:None\">\n",
      "<tr style=\"border:None\"><td style=\"border:None\"><img src=\"mail_icon.jpeg\" width=50></td><td style=\"border:None; vertical-align:middle\">importamueller@gmail.com</td></tr>\n",
      "<tr style=\"border:None\"><td style=\"border:None\"><img src=\"twitter_icon.png\" width=50></td><td style=\"border:None; vertical-align:middle\">@t3kcit</td></tr>\n",
      "<tr style=\"border:None\"><td style=\"border:None\"><img src=\"octobiwan.jpg\" width=50></td><td style=\"border:None; vertical-align:middle\">@amueller</td></tr>\n",
      "<tr style=\"border:None\"><td style=\"border:None\"><img src=\"blogger_icon.png\" width=50></td><td style=\"border:None; vertical-align:middle\">peekaboo-vision.blogspot.com</td></tr>\n",
      "</table>\n",
      "\n",
      "This is part of a larger talk at http://amueller.github.io/sklearn_tutorial/\n"
     ]
    }
   ],
   "metadata": {}
  }
 ]
}